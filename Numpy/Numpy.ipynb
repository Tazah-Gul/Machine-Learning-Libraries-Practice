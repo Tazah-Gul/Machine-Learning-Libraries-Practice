{
  "nbformat": 4,
  "nbformat_minor": 0,
  "metadata": {
    "colab": {
      "name": "Numpy.ipynb",
      "provenance": [],
      "collapsed_sections": [],
      "toc_visible": true
    },
    "kernelspec": {
      "name": "python3",
      "display_name": "Python 3"
    },
    "language_info": {
      "name": "python"
    }
  },
  "cells": [
    {
      "cell_type": "markdown",
      "metadata": {
        "id": "2FR0Y5ODyNYk"
      },
      "source": [
        "# Numpy\n",
        "Numpy is general purpose array processing package. It provides high-performance multidimensional array object, and tools for working with these arrays. It is the fundamental package for scientific computing with python."
      ]
    },
    {
      "cell_type": "code",
      "metadata": {
        "id": "fAVX2bQ1yDq4"
      },
      "source": [
        "## Lets import numpy library first\n",
        "import numpy as np"
      ],
      "execution_count": 2,
      "outputs": []
    },
    {
      "cell_type": "code",
      "metadata": {
        "id": "zadFaN64zG34"
      },
      "source": [
        "my_lst = [1,2,3,4,5]\n",
        "arr = np.array(my_lst)"
      ],
      "execution_count": 3,
      "outputs": []
    },
    {
      "cell_type": "code",
      "metadata": {
        "colab": {
          "base_uri": "https://localhost:8080/"
        },
        "id": "6tdtYyGXzTKW",
        "outputId": "8bd25418-9761-4ca3-90e0-c05ca596e7f3"
      },
      "source": [
        "type(arr)"
      ],
      "execution_count": 4,
      "outputs": [
        {
          "output_type": "execute_result",
          "data": {
            "text/plain": [
              "numpy.ndarray"
            ]
          },
          "metadata": {
            "tags": []
          },
          "execution_count": 4
        }
      ]
    },
    {
      "cell_type": "code",
      "metadata": {
        "colab": {
          "base_uri": "https://localhost:8080/"
        },
        "id": "2rQGKRGrzVdE",
        "outputId": "9c4ad2db-58a2-4ca2-a5ce-ad71e128da30"
      },
      "source": [
        "arr"
      ],
      "execution_count": 5,
      "outputs": [
        {
          "output_type": "execute_result",
          "data": {
            "text/plain": [
              "array([1, 2, 3, 4, 5])"
            ]
          },
          "metadata": {
            "tags": []
          },
          "execution_count": 5
        }
      ]
    },
    {
      "cell_type": "code",
      "metadata": {
        "colab": {
          "base_uri": "https://localhost:8080/"
        },
        "id": "5xJE60k7zZnE",
        "outputId": "97e517c7-b281-4358-b137-38d86be76438"
      },
      "source": [
        "arr.shape"
      ],
      "execution_count": 6,
      "outputs": [
        {
          "output_type": "execute_result",
          "data": {
            "text/plain": [
              "(5,)"
            ]
          },
          "metadata": {
            "tags": []
          },
          "execution_count": 6
        }
      ]
    },
    {
      "cell_type": "code",
      "metadata": {
        "id": "1bxx0R6wziP6"
      },
      "source": [
        "## Multidimensional array\n",
        "my_lst1 = [1,2,3,4,5]\n",
        "my_lst2 = [3,4,5,6,7]\n",
        "my_lst3 = [5,6,7,8,9]\n",
        "arr = np.array([my_lst1, my_lst2, my_lst3])"
      ],
      "execution_count": 7,
      "outputs": []
    },
    {
      "cell_type": "code",
      "metadata": {
        "colab": {
          "base_uri": "https://localhost:8080/"
        },
        "id": "RLpq-bH20JzR",
        "outputId": "27641469-8c3e-4f88-ce68-573d5d7b5157"
      },
      "source": [
        "arr"
      ],
      "execution_count": 8,
      "outputs": [
        {
          "output_type": "execute_result",
          "data": {
            "text/plain": [
              "array([[1, 2, 3, 4, 5],\n",
              "       [3, 4, 5, 6, 7],\n",
              "       [5, 6, 7, 8, 9]])"
            ]
          },
          "metadata": {
            "tags": []
          },
          "execution_count": 8
        }
      ]
    },
    {
      "cell_type": "code",
      "metadata": {
        "colab": {
          "base_uri": "https://localhost:8080/"
        },
        "id": "JNfD9med0MfM",
        "outputId": "6dd53806-9346-4be5-c8ee-bfa374875671"
      },
      "source": [
        "arr.shape"
      ],
      "execution_count": 9,
      "outputs": [
        {
          "output_type": "execute_result",
          "data": {
            "text/plain": [
              "(3, 5)"
            ]
          },
          "metadata": {
            "tags": []
          },
          "execution_count": 9
        }
      ]
    },
    {
      "cell_type": "code",
      "metadata": {
        "id": "x0Un7r2M0TPc"
      },
      "source": [
        "arr = arr.reshape(5,3)"
      ],
      "execution_count": 13,
      "outputs": []
    },
    {
      "cell_type": "code",
      "metadata": {
        "colab": {
          "base_uri": "https://localhost:8080/"
        },
        "id": "o2jOEUJY0c_M",
        "outputId": "da70be4d-4491-435a-ab3a-e7a8adea0d09"
      },
      "source": [
        "arr.shape"
      ],
      "execution_count": 14,
      "outputs": [
        {
          "output_type": "execute_result",
          "data": {
            "text/plain": [
              "(5, 3)"
            ]
          },
          "metadata": {
            "tags": []
          },
          "execution_count": 14
        }
      ]
    },
    {
      "cell_type": "markdown",
      "metadata": {
        "id": "SuUDgP_b0-TT"
      },
      "source": [
        "# Indexing\n",
        "Indexing is used to access the array elements"
      ]
    },
    {
      "cell_type": "code",
      "metadata": {
        "id": "sS6IjkMf0udz"
      },
      "source": [
        "arr = np.array([1,2,3,4,5,6,7,8,9])"
      ],
      "execution_count": 15,
      "outputs": []
    },
    {
      "cell_type": "code",
      "metadata": {
        "colab": {
          "base_uri": "https://localhost:8080/"
        },
        "id": "XAbdsYFu1jxv",
        "outputId": "932a832a-0852-4cc5-a80e-8a1f264d4425"
      },
      "source": [
        "arr[4]"
      ],
      "execution_count": 16,
      "outputs": [
        {
          "output_type": "execute_result",
          "data": {
            "text/plain": [
              "5"
            ]
          },
          "metadata": {
            "tags": []
          },
          "execution_count": 16
        }
      ]
    },
    {
      "cell_type": "code",
      "metadata": {
        "id": "gn3cfDsp1lYg"
      },
      "source": [
        "my_lst1 = [1,2,3,4,5]\n",
        "my_lst2 = [3,4,5,6,7]\n",
        "my_lst3 = [5,6,7,8,9]\n",
        "arr = np.array([my_lst1, my_lst2, my_lst3])"
      ],
      "execution_count": 17,
      "outputs": []
    },
    {
      "cell_type": "code",
      "metadata": {
        "colab": {
          "base_uri": "https://localhost:8080/"
        },
        "id": "S4uiSozJ1xGN",
        "outputId": "8921d2ef-c7f8-48bb-c2fb-834e2d7c6bc3"
      },
      "source": [
        "arr[:,:]  #Print all the elements in the array "
      ],
      "execution_count": 18,
      "outputs": [
        {
          "output_type": "execute_result",
          "data": {
            "text/plain": [
              "array([[1, 2, 3, 4, 5],\n",
              "       [3, 4, 5, 6, 7],\n",
              "       [5, 6, 7, 8, 9]])"
            ]
          },
          "metadata": {
            "tags": []
          },
          "execution_count": 18
        }
      ]
    },
    {
      "cell_type": "code",
      "metadata": {
        "colab": {
          "base_uri": "https://localhost:8080/"
        },
        "id": "1JzNSgXe2BzQ",
        "outputId": "fa8abad9-ba03-4ceb-ad87-a889401fae74"
      },
      "source": [
        "arr[1:,3:]"
      ],
      "execution_count": 19,
      "outputs": [
        {
          "output_type": "execute_result",
          "data": {
            "text/plain": [
              "array([[6, 7],\n",
              "       [8, 9]])"
            ]
          },
          "metadata": {
            "tags": []
          },
          "execution_count": 19
        }
      ]
    },
    {
      "cell_type": "code",
      "metadata": {
        "colab": {
          "base_uri": "https://localhost:8080/"
        },
        "id": "9LRiSXLU2GFW",
        "outputId": "f13dfa1e-a8c2-4b3e-a920-07752fac241e"
      },
      "source": [
        "arr[0:2,0:2]"
      ],
      "execution_count": 20,
      "outputs": [
        {
          "output_type": "execute_result",
          "data": {
            "text/plain": [
              "array([[1, 2],\n",
              "       [3, 4]])"
            ]
          },
          "metadata": {
            "tags": []
          },
          "execution_count": 20
        }
      ]
    },
    {
      "cell_type": "code",
      "metadata": {
        "colab": {
          "base_uri": "https://localhost:8080/"
        },
        "id": "khqFIKH-2THl",
        "outputId": "f889cf23-82fa-4c79-f275-abd31eed9f93"
      },
      "source": [
        "arr = np.arange(0,10)\n",
        "arr"
      ],
      "execution_count": 22,
      "outputs": [
        {
          "output_type": "execute_result",
          "data": {
            "text/plain": [
              "array([0, 1, 2, 3, 4, 5, 6, 7, 8, 9])"
            ]
          },
          "metadata": {
            "tags": []
          },
          "execution_count": 22
        }
      ]
    },
    {
      "cell_type": "code",
      "metadata": {
        "colab": {
          "base_uri": "https://localhost:8080/"
        },
        "id": "oqFmkRnf2z71",
        "outputId": "674cbdaa-ad8f-4194-b05c-fdc0aede052b"
      },
      "source": [
        "arr = np.arange(0,10,2)\n",
        "arr"
      ],
      "execution_count": 23,
      "outputs": [
        {
          "output_type": "execute_result",
          "data": {
            "text/plain": [
              "array([0, 2, 4, 6, 8])"
            ]
          },
          "metadata": {
            "tags": []
          },
          "execution_count": 23
        }
      ]
    },
    {
      "cell_type": "code",
      "metadata": {
        "colab": {
          "base_uri": "https://localhost:8080/"
        },
        "id": "605Ie_-t28iR",
        "outputId": "82f06306-e147-470b-ef08-92829e97321c"
      },
      "source": [
        "np.linspace(0,10,50)"
      ],
      "execution_count": 27,
      "outputs": [
        {
          "output_type": "execute_result",
          "data": {
            "text/plain": [
              "array([ 0.        ,  0.20408163,  0.40816327,  0.6122449 ,  0.81632653,\n",
              "        1.02040816,  1.2244898 ,  1.42857143,  1.63265306,  1.83673469,\n",
              "        2.04081633,  2.24489796,  2.44897959,  2.65306122,  2.85714286,\n",
              "        3.06122449,  3.26530612,  3.46938776,  3.67346939,  3.87755102,\n",
              "        4.08163265,  4.28571429,  4.48979592,  4.69387755,  4.89795918,\n",
              "        5.10204082,  5.30612245,  5.51020408,  5.71428571,  5.91836735,\n",
              "        6.12244898,  6.32653061,  6.53061224,  6.73469388,  6.93877551,\n",
              "        7.14285714,  7.34693878,  7.55102041,  7.75510204,  7.95918367,\n",
              "        8.16326531,  8.36734694,  8.57142857,  8.7755102 ,  8.97959184,\n",
              "        9.18367347,  9.3877551 ,  9.59183673,  9.79591837, 10.        ])"
            ]
          },
          "metadata": {
            "tags": []
          },
          "execution_count": 27
        }
      ]
    },
    {
      "cell_type": "code",
      "metadata": {
        "colab": {
          "base_uri": "https://localhost:8080/"
        },
        "id": "SlF9cK3I3SdW",
        "outputId": "76815f3e-7816-49e6-b209-361804e181a4"
      },
      "source": [
        "##Copy function and broadcasting\n",
        "arr = np.arange(0,10)\n",
        "arr"
      ],
      "execution_count": 29,
      "outputs": [
        {
          "output_type": "execute_result",
          "data": {
            "text/plain": [
              "array([0, 1, 2, 3, 4, 5, 6, 7, 8, 9])"
            ]
          },
          "metadata": {
            "tags": []
          },
          "execution_count": 29
        }
      ]
    },
    {
      "cell_type": "code",
      "metadata": {
        "colab": {
          "base_uri": "https://localhost:8080/"
        },
        "id": "c3Cgg7pi3vO3",
        "outputId": "8e7aed1b-55a6-400a-bba7-bc30efa0ee65"
      },
      "source": [
        "arr[3:] = 10\n",
        "arr"
      ],
      "execution_count": 31,
      "outputs": [
        {
          "output_type": "execute_result",
          "data": {
            "text/plain": [
              "array([ 0,  1,  2, 10, 10, 10, 10, 10, 10, 10])"
            ]
          },
          "metadata": {
            "tags": []
          },
          "execution_count": 31
        }
      ]
    },
    {
      "cell_type": "code",
      "metadata": {
        "id": "m9o702gy32Dz"
      },
      "source": [
        "arr1 = arr\n",
        "arr1[3:] = 50"
      ],
      "execution_count": 32,
      "outputs": []
    },
    {
      "cell_type": "code",
      "metadata": {
        "colab": {
          "base_uri": "https://localhost:8080/"
        },
        "id": "GM6MxxW14R5_",
        "outputId": "05ae4cca-f3de-4f29-b64b-4ac68017ce53"
      },
      "source": [
        "print(arr1)\n",
        "print(arr)        #arr1 also changes the arr because array is refernce type (they are sharing the same memory) so one changes the other will automatically changes"
      ],
      "execution_count": 35,
      "outputs": [
        {
          "output_type": "stream",
          "text": [
            "[ 0  1  2 50 50 50 50 50 50 50]\n",
            "[ 0  1  2 50 50 50 50 50 50 50]\n"
          ],
          "name": "stdout"
        }
      ]
    },
    {
      "cell_type": "code",
      "metadata": {
        "colab": {
          "base_uri": "https://localhost:8080/"
        },
        "id": "3axc22Ti4Vvg",
        "outputId": "2126a4f8-61ec-48fc-f9d2-f7441d17905e"
      },
      "source": [
        "arr1 = arr.copy()       # copy function is used to prevent above problem. It creates different memory location for arr1\n",
        "arr1"
      ],
      "execution_count": 41,
      "outputs": [
        {
          "output_type": "execute_result",
          "data": {
            "text/plain": [
              "array([ 0,  1,  2, 50, 50, 50, 50, 50, 50, 50])"
            ]
          },
          "metadata": {
            "tags": []
          },
          "execution_count": 41
        }
      ]
    },
    {
      "cell_type": "code",
      "metadata": {
        "colab": {
          "base_uri": "https://localhost:8080/"
        },
        "id": "2jieOLQz5Mis",
        "outputId": "43877351-b6a3-4814-83ed-b52ccfe7fb2d"
      },
      "source": [
        "arr1[3:] = 500\n",
        "print(arr)\n",
        "print(arr1)"
      ],
      "execution_count": 42,
      "outputs": [
        {
          "output_type": "stream",
          "text": [
            "[ 0  1  2 50 50 50 50 50 50 50]\n",
            "[  0   1   2 500 500 500 500 500 500 500]\n"
          ],
          "name": "stdout"
        }
      ]
    },
    {
      "cell_type": "code",
      "metadata": {
        "colab": {
          "base_uri": "https://localhost:8080/"
        },
        "id": "4H8pxGJO5UwQ",
        "outputId": "05073d46-b23b-448f-98f9-d08444d0319a"
      },
      "source": [
        "## Some conditions in Exploratory Data Analysis\n",
        "val = 5\n",
        "print(arr<val)\n",
        "print(arr+val)\n",
        "print(arr*val)\n",
        "print(arr/val)\n",
        "print(arr%val)\n",
        "arr[arr<50]"
      ],
      "execution_count": 45,
      "outputs": [
        {
          "output_type": "stream",
          "text": [
            "[ True  True  True False False False False False False False]\n",
            "[ 5  6  7 55 55 55 55 55 55 55]\n",
            "[  0   5  10 250 250 250 250 250 250 250]\n",
            "[ 0.   0.2  0.4 10.  10.  10.  10.  10.  10.  10. ]\n",
            "[0 1 2 0 0 0 0 0 0 0]\n"
          ],
          "name": "stdout"
        },
        {
          "output_type": "execute_result",
          "data": {
            "text/plain": [
              "array([0, 1, 2])"
            ]
          },
          "metadata": {
            "tags": []
          },
          "execution_count": 45
        }
      ]
    },
    {
      "cell_type": "code",
      "metadata": {
        "id": "5WNeiymu6p0v"
      },
      "source": [
        "## Creating and Reshaping arrays in one line\n",
        "arr1 = np.arange(0,10).reshape(5,2)\n",
        "arr2 = np.arange(0,10).reshape(5,2)"
      ],
      "execution_count": 48,
      "outputs": []
    },
    {
      "cell_type": "code",
      "metadata": {
        "colab": {
          "base_uri": "https://localhost:8080/"
        },
        "id": "AMPfYscv7Z2z",
        "outputId": "8d5d7b45-6ba2-46b7-d757-27cf3950a663"
      },
      "source": [
        "arr1*arr2"
      ],
      "execution_count": 49,
      "outputs": [
        {
          "output_type": "execute_result",
          "data": {
            "text/plain": [
              "array([[ 0,  1],\n",
              "       [ 4,  9],\n",
              "       [16, 25],\n",
              "       [36, 49],\n",
              "       [64, 81]])"
            ]
          },
          "metadata": {
            "tags": []
          },
          "execution_count": 49
        }
      ]
    },
    {
      "cell_type": "code",
      "metadata": {
        "colab": {
          "base_uri": "https://localhost:8080/"
        },
        "id": "hpy2OBFK8J35",
        "outputId": "1951cb44-2c06-4277-c9a3-a17d986177a6"
      },
      "source": [
        "np.ones(4)   #By default datatype is float\n",
        "np.ones(4,dtype=int)"
      ],
      "execution_count": 51,
      "outputs": [
        {
          "output_type": "execute_result",
          "data": {
            "text/plain": [
              "array([1, 1, 1, 1])"
            ]
          },
          "metadata": {
            "tags": []
          },
          "execution_count": 51
        }
      ]
    },
    {
      "cell_type": "code",
      "metadata": {
        "colab": {
          "base_uri": "https://localhost:8080/"
        },
        "id": "Rgu2cIst8dwK",
        "outputId": "6680064a-0a7d-4e28-8e53-a2aae8d2a21b"
      },
      "source": [
        "np.ones((2,5), dtype=int)"
      ],
      "execution_count": 52,
      "outputs": [
        {
          "output_type": "execute_result",
          "data": {
            "text/plain": [
              "array([[1, 1, 1, 1, 1],\n",
              "       [1, 1, 1, 1, 1]])"
            ]
          },
          "metadata": {
            "tags": []
          },
          "execution_count": 52
        }
      ]
    },
    {
      "cell_type": "code",
      "metadata": {
        "colab": {
          "base_uri": "https://localhost:8080/"
        },
        "id": "4uBrOFQ28vXD",
        "outputId": "ef21cc81-d7d9-4b96-dc7e-7710b7b62a07"
      },
      "source": [
        "##Random Distribution\n",
        "np.random.rand(2,3)"
      ],
      "execution_count": 53,
      "outputs": [
        {
          "output_type": "execute_result",
          "data": {
            "text/plain": [
              "array([[0.90997275, 0.93544158, 0.14371486],\n",
              "       [0.84390073, 0.44563645, 0.25897253]])"
            ]
          },
          "metadata": {
            "tags": []
          },
          "execution_count": 53
        }
      ]
    },
    {
      "cell_type": "code",
      "metadata": {
        "colab": {
          "base_uri": "https://localhost:8080/"
        },
        "id": "duS6qXcK9AUC",
        "outputId": "4bdaef33-5e42-43be-fd89-7b464f42f553"
      },
      "source": [
        "arr_ex = np.random.randn(4,4)\n",
        "arr_ex"
      ],
      "execution_count": 55,
      "outputs": [
        {
          "output_type": "execute_result",
          "data": {
            "text/plain": [
              "array([[-1.70964377e+00, -1.29618673e-01,  5.89561402e-01,\n",
              "        -2.37733729e-01],\n",
              "       [ 9.00155063e-01, -8.76889738e-01, -1.38872035e+00,\n",
              "         1.18124501e+00],\n",
              "       [-1.08169863e-03, -6.98712518e-01, -1.57199100e+00,\n",
              "         3.26263566e-02],\n",
              "       [-9.12275222e-01,  3.90860817e-01,  8.94015634e-01,\n",
              "         1.04415076e+00]])"
            ]
          },
          "metadata": {
            "tags": []
          },
          "execution_count": 55
        }
      ]
    },
    {
      "cell_type": "code",
      "metadata": {
        "colab": {
          "base_uri": "https://localhost:8080/"
        },
        "id": "MALEQ4sG9gyE",
        "outputId": "eb014416-704d-4697-b7a2-68deb53b7935"
      },
      "source": [
        "np.random.randint(0,100,8)    #Between 0 to 100 select 8 numbers randomly\n",
        "np.random.randint(0,100,8).reshape(4,2)"
      ],
      "execution_count": 59,
      "outputs": [
        {
          "output_type": "execute_result",
          "data": {
            "text/plain": [
              "array([[22,  0],\n",
              "       [12, 58],\n",
              "       [ 8, 94],\n",
              "       [34, 17]])"
            ]
          },
          "metadata": {
            "tags": []
          },
          "execution_count": 59
        }
      ]
    },
    {
      "cell_type": "code",
      "metadata": {
        "colab": {
          "base_uri": "https://localhost:8080/"
        },
        "id": "d2DLdPK0-Nih",
        "outputId": "75102e85-e569-4fbe-9842-8e1617245a1a"
      },
      "source": [
        "np.random.random_sample((2,5))"
      ],
      "execution_count": 61,
      "outputs": [
        {
          "output_type": "execute_result",
          "data": {
            "text/plain": [
              "array([[0.84823883, 0.58070959, 0.07611997, 0.88082253, 0.88858916],\n",
              "       [0.20866557, 0.42481629, 0.13138708, 0.72637482, 0.94594456]])"
            ]
          },
          "metadata": {
            "tags": []
          },
          "execution_count": 61
        }
      ]
    }
  ]
}